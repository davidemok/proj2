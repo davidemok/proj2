{
 "cells": [
  {
   "cell_type": "markdown",
   "id": "a4718e28",
   "metadata": {},
   "source": [
    "# Unit 2 Project - Data Cleaning "
   ]
  },
  {
   "cell_type": "markdown",
   "id": "7e497310",
   "metadata": {},
   "source": [
    "## Part 1: Prepare Environment and Jupyter Notebook"
   ]
  },
  {
   "cell_type": "markdown",
   "id": "af19cd7e",
   "metadata": {},
   "source": [
    "### Step 1: Create Virtual Environment\n",
    "\n",
    "This step should have been completed prior to opening the Jupyter Notebook. Refer to project instructions."
   ]
  },
  {
   "cell_type": "markdown",
   "id": "056e8cce",
   "metadata": {},
   "source": [
    "### Step 2: Open Jupyter Notebook File\n",
    "\n",
    "Congratulations! If you're here it means you have completed Step 2. "
   ]
  },
  {
   "cell_type": "markdown",
   "id": "4af0ea78",
   "metadata": {},
   "source": [
    "### Step 3: Load .csv Files into DataFrames"
   ]
  },
  {
   "cell_type": "code",
   "execution_count": 2,
   "id": "f639cd26",
   "metadata": {},
   "outputs": [],
   "source": [
    "####### TO DO ########\n",
    "\n",
    "# load house_data.csv into a dataframe using pd.read_csv()\n",
    "\n",
    "# load house_sales.csv into a dataframe using pd.read_csv()\n",
    "\n",
    "######################\n",
    "import pandas as pd\n",
    "raw_house_df = pd.read_csv('house_data.csv')\n",
    "raw_sales_df = pd.read_csv('house_sales.csv')\n"
   ]
  },
  {
   "cell_type": "code",
   "execution_count": 3,
   "id": "e242b38c",
   "metadata": {},
   "outputs": [
    {
     "data": {
      "text/plain": [
       "<bound method NDFrame.head of        Unnamed: 0          ID  Bedrooms  Bathrooms  SQFT living  SQFT lot  \\\n",
       "0               0  7129300520         3       1.00         1180    5650.0   \n",
       "1               1  6414100192         3       2.25         2570    7242.0   \n",
       "2               2  5631500400         2       1.00          770   10000.0   \n",
       "3               3  2487200875         4       3.00         1960    5000.0   \n",
       "4               4  1954400510         3       2.00         1680    8080.0   \n",
       "...           ...         ...       ...        ...          ...       ...   \n",
       "21608       21608   263000018         3       2.50         1530    1131.0   \n",
       "21609       21609  6600060120         4       2.50         2310    5813.0   \n",
       "21610       21610  1523300141         2       0.75         1020    1350.0   \n",
       "21611       21611   291310100         3       2.50         1600    2388.0   \n",
       "21612       21612  1523300157         2       0.75         1020    1076.0   \n",
       "\n",
       "       Floors Waterfront?       View  House Condition  Grade  SQFT above  \\\n",
       "0         1.0          No  Very Poor     OK Condition    7.0      1180.0   \n",
       "1         2.0          No  Very Poor     OK Condition    7.0      2170.0   \n",
       "2         1.0          No  Very Poor     OK Condition    6.0       770.0   \n",
       "3         1.0          No  Very Poor  Great Condition    7.0      1050.0   \n",
       "4         1.0          No  Very Poor     OK Condition    8.0      1680.0   \n",
       "...       ...         ...        ...              ...    ...         ...   \n",
       "21608     3.0          No  Very Poor     OK Condition    8.0      1530.0   \n",
       "21609     2.0          No  Very Poor     OK Condition    8.0      2310.0   \n",
       "21610     2.0          No  Very Poor     OK Condition    7.0      1020.0   \n",
       "21611     2.0          No  Very Poor     OK Condition    8.0      1600.0   \n",
       "21612     2.0          No  Very Poor              NaN    7.0      1020.0   \n",
       "\n",
       "       SQFT basement  Year Built  Year Renovated  Zipcode      Lat     Long  \\\n",
       "0                  0      1955.0             NaN  98178.0  47.5112 -122.257   \n",
       "1                400      1951.0          1991.0  98125.0  47.7210 -122.319   \n",
       "2                  0      1933.0             NaN  98028.0  47.7379 -122.233   \n",
       "3                910      1965.0             NaN  98136.0  47.5208 -122.393   \n",
       "4                  0      1987.0             NaN  98074.0  47.6168 -122.045   \n",
       "...              ...         ...             ...      ...      ...      ...   \n",
       "21608              0      2009.0             0.0  98103.0  47.6993 -122.346   \n",
       "21609              0      2014.0             0.0  98146.0  47.5107 -122.362   \n",
       "21610              0         NaN             0.0  98144.0  47.5944 -122.299   \n",
       "21611              0      2004.0             0.0  98027.0  47.5345 -122.069   \n",
       "21612              0      2008.0             0.0  98144.0  47.5941 -122.299   \n",
       "\n",
       "       SQFT living 15  SQFT lot 15  \n",
       "0                1340         5650  \n",
       "1                1690         7639  \n",
       "2                2720         8062  \n",
       "3                1360         5000  \n",
       "4                1800         7503  \n",
       "...               ...          ...  \n",
       "21608            1530         1509  \n",
       "21609            1830         7200  \n",
       "21610            1020         2007  \n",
       "21611            1410         1287  \n",
       "21612            1020         1357  \n",
       "\n",
       "[21613 rows x 20 columns]>"
      ]
     },
     "execution_count": 3,
     "metadata": {},
     "output_type": "execute_result"
    }
   ],
   "source": [
    "###### TO DO ######\n",
    "\n",
    "# use .head() on your new dataframe to show the dataframe was loaded succussfully\n",
    "raw_house_df.head"
   ]
  },
  {
   "cell_type": "code",
   "execution_count": 4,
   "id": "3ca8a987",
   "metadata": {},
   "outputs": [
    {
     "data": {
      "text/html": [
       "<div>\n",
       "<style scoped>\n",
       "    .dataframe tbody tr th:only-of-type {\n",
       "        vertical-align: middle;\n",
       "    }\n",
       "\n",
       "    .dataframe tbody tr th {\n",
       "        vertical-align: top;\n",
       "    }\n",
       "\n",
       "    .dataframe thead th {\n",
       "        text-align: right;\n",
       "    }\n",
       "</style>\n",
       "<table border=\"1\" class=\"dataframe\">\n",
       "  <thead>\n",
       "    <tr style=\"text-align: right;\">\n",
       "      <th></th>\n",
       "      <th>Unnamed: 0</th>\n",
       "      <th>Id</th>\n",
       "      <th>DATE</th>\n",
       "      <th>Price</th>\n",
       "    </tr>\n",
       "  </thead>\n",
       "  <tbody>\n",
       "    <tr>\n",
       "      <th>0</th>\n",
       "      <td>0</td>\n",
       "      <td>7129300520</td>\n",
       "      <td>20141013T000000</td>\n",
       "      <td>$221,900.00</td>\n",
       "    </tr>\n",
       "    <tr>\n",
       "      <th>1</th>\n",
       "      <td>1</td>\n",
       "      <td>6414100192</td>\n",
       "      <td>20141209T000000</td>\n",
       "      <td>$538,000.00</td>\n",
       "    </tr>\n",
       "    <tr>\n",
       "      <th>2</th>\n",
       "      <td>2</td>\n",
       "      <td>5631500400</td>\n",
       "      <td>20150225T000000</td>\n",
       "      <td>$180,000.00</td>\n",
       "    </tr>\n",
       "    <tr>\n",
       "      <th>3</th>\n",
       "      <td>3</td>\n",
       "      <td>2487200875</td>\n",
       "      <td>20141209T000000</td>\n",
       "      <td>$604,000.00</td>\n",
       "    </tr>\n",
       "    <tr>\n",
       "      <th>4</th>\n",
       "      <td>4</td>\n",
       "      <td>1954400510</td>\n",
       "      <td>20150218T000000</td>\n",
       "      <td>$510,000.00</td>\n",
       "    </tr>\n",
       "    <tr>\n",
       "      <th>5</th>\n",
       "      <td>5</td>\n",
       "      <td>7237550310</td>\n",
       "      <td>20140512T000000</td>\n",
       "      <td>$1,225,000.00</td>\n",
       "    </tr>\n",
       "    <tr>\n",
       "      <th>6</th>\n",
       "      <td>6</td>\n",
       "      <td>1321400060</td>\n",
       "      <td>20140627T000000</td>\n",
       "      <td>$257,500.00</td>\n",
       "    </tr>\n",
       "    <tr>\n",
       "      <th>7</th>\n",
       "      <td>7</td>\n",
       "      <td>2008000270</td>\n",
       "      <td>20150115T000000</td>\n",
       "      <td>$291,850.00</td>\n",
       "    </tr>\n",
       "    <tr>\n",
       "      <th>8</th>\n",
       "      <td>8</td>\n",
       "      <td>2414600126</td>\n",
       "      <td>20150415T000000</td>\n",
       "      <td>$229,500.00</td>\n",
       "    </tr>\n",
       "    <tr>\n",
       "      <th>9</th>\n",
       "      <td>9</td>\n",
       "      <td>3793500160</td>\n",
       "      <td>20150312T000000</td>\n",
       "      <td>$323,000.00</td>\n",
       "    </tr>\n",
       "  </tbody>\n",
       "</table>\n",
       "</div>"
      ],
      "text/plain": [
       "   Unnamed: 0          Id             DATE          Price\n",
       "0           0  7129300520  20141013T000000    $221,900.00\n",
       "1           1  6414100192  20141209T000000    $538,000.00\n",
       "2           2  5631500400  20150225T000000    $180,000.00\n",
       "3           3  2487200875  20141209T000000    $604,000.00\n",
       "4           4  1954400510  20150218T000000    $510,000.00\n",
       "5           5  7237550310  20140512T000000  $1,225,000.00\n",
       "6           6  1321400060  20140627T000000    $257,500.00\n",
       "7           7  2008000270  20150115T000000    $291,850.00\n",
       "8           8  2414600126  20150415T000000    $229,500.00\n",
       "9           9  3793500160  20150312T000000    $323,000.00"
      ]
     },
     "execution_count": 4,
     "metadata": {},
     "output_type": "execute_result"
    }
   ],
   "source": [
    "###### TO DO ######\n",
    "\n",
    "# use .head() on your second new dataframe to show the dataframe was loaded succussfully\n",
    "raw_sales_df.head(10)"
   ]
  },
  {
   "cell_type": "markdown",
   "id": "07f969b2",
   "metadata": {},
   "source": [
    "### Step 4: Create Data Dictionaries for Each Dataset"
   ]
  },
  {
   "cell_type": "code",
   "execution_count": 14,
   "id": "2da245c7",
   "metadata": {},
   "outputs": [],
   "source": [
    "####### TO DO ###########\n",
    "\n",
    "# Work in the cells below to fill in missing information in the data dictionary. "
   ]
  },
  {
   "cell_type": "markdown",
   "id": "8edd6196",
   "metadata": {},
   "source": [
    "#### Data Dictionary - House Data\n",
    "\n",
    "**id**:\n",
    "> Description: id number of house\n",
    ">\n",
    "> Data type: int\n",
    "\n",
    "**bedrooms**:\n",
    "> Description: number of bedrooms\n",
    ">\n",
    "> Data type: int\n",
    "\n",
    "**bathrooms**:\n",
    "> Description: number of bathrooms\n",
    ">\n",
    "> Data type: int\n",
    "\n",
    "**sqft_living**:\n",
    "> Description: square feet of inside living space\n",
    ">\n",
    "> Data type: square feet\n",
    "\n",
    "**sqft_lot**:\n",
    "> Description: square feet of total property\n",
    ">\n",
    "> Data type: square feet\n",
    "\n",
    "**floors**:\n",
    "> Description: number of floors\n",
    ">\n",
    "> Data type: int\n",
    "\n",
    "**waterfront**:\n",
    "> Description: if property borders water\n",
    ">\n",
    "> Data type: yes/no (boolean?)\n",
    "\n",
    "**view**:\n",
    "> Description: outdoor view of house\n",
    ">\n",
    "> Data type: very poor - very good\n",
    "\n",
    "**condition**:\n",
    "> Description: physical condition of house\n",
    ">\n",
    "> Data type: very poor - very good\n",
    "\n",
    "**grade**:\n",
    "> Description: overall grade\n",
    ">\n",
    "> Data type: float\n",
    "\n",
    "**sqft_above**:\n",
    "> Description: square feet of airspace above house\n",
    ">\n",
    "> Data type: square feet \n",
    "\n",
    "**sqft_basement**:\n",
    "> Description: square feet of basement\n",
    ">\n",
    "> Data type: square feet\n",
    "\n",
    "**yr_built**:\n",
    "> Description: year the house was built\n",
    ">\n",
    "> Data type: int\n",
    "\n",
    "**yr_renovated**:\n",
    "> Description: year the house was renovated\n",
    ">\n",
    "> Data type: int\n",
    "\n",
    "**zipcode**:\n",
    "> Description: zipcode of address\n",
    ">\n",
    "> Data type: int\n",
    "\n",
    "**lat**:\n",
    "> Description: GPS latitude\n",
    ">\n",
    "> Data type: float\n",
    "\n",
    "**long**:\n",
    "> Description: GPS longitude\n",
    ">\n",
    "> Data type: float\n",
    "\n",
    "**sqft_living15**:\n",
    "> Description: average square feet of living space of nearest 15 neighbors\n",
    ">\n",
    "> Data type: int\n",
    "\n",
    "**sqft_lot15**:\n",
    "> Description: average square feet of total property space of nearest 15 neighbors\n",
    ">\n",
    "> Data type: int"
   ]
  },
  {
   "cell_type": "markdown",
   "id": "318fbad1",
   "metadata": {},
   "source": [
    "#### Data Dictionary - House Sales Data\n",
    "\n",
    "**id**:\n",
    "> Description: identification number of sale\n",
    ">\n",
    "> Data type: int\n",
    "\n",
    "**date**:\n",
    "> Description: date of sale\n",
    ">\n",
    "> Data type: varchar\n",
    "\n",
    "**price**:\n",
    "> Description: price of house\n",
    ">\n",
    "> Data type: int"
   ]
  },
  {
   "cell_type": "markdown",
   "id": "eead3ca6",
   "metadata": {},
   "source": [
    "### Step 5: Create Copies of DataFrames to Start Cleaning Process"
   ]
  },
  {
   "cell_type": "code",
   "execution_count": 4,
   "id": "d1157942",
   "metadata": {},
   "outputs": [],
   "source": [
    "###### TO DO ######\n",
    "\n",
    "# create a copy of house_data\n",
    "\n",
    "# create a copy of sales_data\n",
    "\n",
    "house_df = raw_house_df.copy()\n",
    "sales_df = raw_sales_df.copy()"
   ]
  },
  {
   "cell_type": "code",
   "execution_count": 9,
   "id": "ef764ac9",
   "metadata": {},
   "outputs": [
    {
     "data": {
      "text/html": [
       "<div>\n",
       "<style scoped>\n",
       "    .dataframe tbody tr th:only-of-type {\n",
       "        vertical-align: middle;\n",
       "    }\n",
       "\n",
       "    .dataframe tbody tr th {\n",
       "        vertical-align: top;\n",
       "    }\n",
       "\n",
       "    .dataframe thead th {\n",
       "        text-align: right;\n",
       "    }\n",
       "</style>\n",
       "<table border=\"1\" class=\"dataframe\">\n",
       "  <thead>\n",
       "    <tr style=\"text-align: right;\">\n",
       "      <th></th>\n",
       "      <th>Unnamed: 0</th>\n",
       "      <th>ID</th>\n",
       "      <th>Bedrooms</th>\n",
       "      <th>Bathrooms</th>\n",
       "      <th>SQFT living</th>\n",
       "      <th>SQFT lot</th>\n",
       "      <th>Floors</th>\n",
       "      <th>Waterfront?</th>\n",
       "      <th>View</th>\n",
       "      <th>House Condition</th>\n",
       "      <th>Grade</th>\n",
       "      <th>SQFT above</th>\n",
       "      <th>SQFT basement</th>\n",
       "      <th>Year Built</th>\n",
       "      <th>Year Renovated</th>\n",
       "      <th>Zipcode</th>\n",
       "      <th>Lat</th>\n",
       "      <th>Long</th>\n",
       "      <th>SQFT living 15</th>\n",
       "      <th>SQFT lot 15</th>\n",
       "    </tr>\n",
       "  </thead>\n",
       "  <tbody>\n",
       "    <tr>\n",
       "      <th>0</th>\n",
       "      <td>0</td>\n",
       "      <td>7129300520</td>\n",
       "      <td>3</td>\n",
       "      <td>1.00</td>\n",
       "      <td>1180</td>\n",
       "      <td>5650.0</td>\n",
       "      <td>1.0</td>\n",
       "      <td>No</td>\n",
       "      <td>Very Poor</td>\n",
       "      <td>OK Condition</td>\n",
       "      <td>7.0</td>\n",
       "      <td>1180.0</td>\n",
       "      <td>0</td>\n",
       "      <td>1955.0</td>\n",
       "      <td>NaN</td>\n",
       "      <td>98178.0</td>\n",
       "      <td>47.5112</td>\n",
       "      <td>-122.257</td>\n",
       "      <td>1340</td>\n",
       "      <td>5650</td>\n",
       "    </tr>\n",
       "    <tr>\n",
       "      <th>1</th>\n",
       "      <td>1</td>\n",
       "      <td>6414100192</td>\n",
       "      <td>3</td>\n",
       "      <td>2.25</td>\n",
       "      <td>2570</td>\n",
       "      <td>7242.0</td>\n",
       "      <td>2.0</td>\n",
       "      <td>No</td>\n",
       "      <td>Very Poor</td>\n",
       "      <td>OK Condition</td>\n",
       "      <td>7.0</td>\n",
       "      <td>2170.0</td>\n",
       "      <td>400</td>\n",
       "      <td>1951.0</td>\n",
       "      <td>1991.0</td>\n",
       "      <td>98125.0</td>\n",
       "      <td>47.7210</td>\n",
       "      <td>-122.319</td>\n",
       "      <td>1690</td>\n",
       "      <td>7639</td>\n",
       "    </tr>\n",
       "    <tr>\n",
       "      <th>2</th>\n",
       "      <td>2</td>\n",
       "      <td>5631500400</td>\n",
       "      <td>2</td>\n",
       "      <td>1.00</td>\n",
       "      <td>770</td>\n",
       "      <td>10000.0</td>\n",
       "      <td>1.0</td>\n",
       "      <td>No</td>\n",
       "      <td>Very Poor</td>\n",
       "      <td>OK Condition</td>\n",
       "      <td>6.0</td>\n",
       "      <td>770.0</td>\n",
       "      <td>0</td>\n",
       "      <td>1933.0</td>\n",
       "      <td>NaN</td>\n",
       "      <td>98028.0</td>\n",
       "      <td>47.7379</td>\n",
       "      <td>-122.233</td>\n",
       "      <td>2720</td>\n",
       "      <td>8062</td>\n",
       "    </tr>\n",
       "    <tr>\n",
       "      <th>3</th>\n",
       "      <td>3</td>\n",
       "      <td>2487200875</td>\n",
       "      <td>4</td>\n",
       "      <td>3.00</td>\n",
       "      <td>1960</td>\n",
       "      <td>5000.0</td>\n",
       "      <td>1.0</td>\n",
       "      <td>No</td>\n",
       "      <td>Very Poor</td>\n",
       "      <td>Great Condition</td>\n",
       "      <td>7.0</td>\n",
       "      <td>1050.0</td>\n",
       "      <td>910</td>\n",
       "      <td>1965.0</td>\n",
       "      <td>NaN</td>\n",
       "      <td>98136.0</td>\n",
       "      <td>47.5208</td>\n",
       "      <td>-122.393</td>\n",
       "      <td>1360</td>\n",
       "      <td>5000</td>\n",
       "    </tr>\n",
       "    <tr>\n",
       "      <th>4</th>\n",
       "      <td>4</td>\n",
       "      <td>1954400510</td>\n",
       "      <td>3</td>\n",
       "      <td>2.00</td>\n",
       "      <td>1680</td>\n",
       "      <td>8080.0</td>\n",
       "      <td>1.0</td>\n",
       "      <td>No</td>\n",
       "      <td>Very Poor</td>\n",
       "      <td>OK Condition</td>\n",
       "      <td>8.0</td>\n",
       "      <td>1680.0</td>\n",
       "      <td>0</td>\n",
       "      <td>1987.0</td>\n",
       "      <td>NaN</td>\n",
       "      <td>98074.0</td>\n",
       "      <td>47.6168</td>\n",
       "      <td>-122.045</td>\n",
       "      <td>1800</td>\n",
       "      <td>7503</td>\n",
       "    </tr>\n",
       "  </tbody>\n",
       "</table>\n",
       "</div>"
      ],
      "text/plain": [
       "   Unnamed: 0          ID  Bedrooms  Bathrooms  SQFT living  SQFT lot  Floors  \\\n",
       "0           0  7129300520         3       1.00         1180    5650.0     1.0   \n",
       "1           1  6414100192         3       2.25         2570    7242.0     2.0   \n",
       "2           2  5631500400         2       1.00          770   10000.0     1.0   \n",
       "3           3  2487200875         4       3.00         1960    5000.0     1.0   \n",
       "4           4  1954400510         3       2.00         1680    8080.0     1.0   \n",
       "\n",
       "  Waterfront?       View  House Condition  Grade  SQFT above  SQFT basement  \\\n",
       "0          No  Very Poor     OK Condition    7.0      1180.0              0   \n",
       "1          No  Very Poor     OK Condition    7.0      2170.0            400   \n",
       "2          No  Very Poor     OK Condition    6.0       770.0              0   \n",
       "3          No  Very Poor  Great Condition    7.0      1050.0            910   \n",
       "4          No  Very Poor     OK Condition    8.0      1680.0              0   \n",
       "\n",
       "   Year Built  Year Renovated  Zipcode      Lat     Long  SQFT living 15  \\\n",
       "0      1955.0             NaN  98178.0  47.5112 -122.257            1340   \n",
       "1      1951.0          1991.0  98125.0  47.7210 -122.319            1690   \n",
       "2      1933.0             NaN  98028.0  47.7379 -122.233            2720   \n",
       "3      1965.0             NaN  98136.0  47.5208 -122.393            1360   \n",
       "4      1987.0             NaN  98074.0  47.6168 -122.045            1800   \n",
       "\n",
       "   SQFT lot 15  \n",
       "0         5650  \n",
       "1         7639  \n",
       "2         8062  \n",
       "3         5000  \n",
       "4         7503  "
      ]
     },
     "execution_count": 9,
     "metadata": {},
     "output_type": "execute_result"
    }
   ],
   "source": [
    "###### TO DO ######\n",
    "\n",
    "# use .head() on your new dataframe to show the dataframe was copied succussfully\n",
    "house_df.head()\n"
   ]
  },
  {
   "cell_type": "code",
   "execution_count": 6,
   "id": "4b9fa892",
   "metadata": {},
   "outputs": [
    {
     "data": {
      "text/html": [
       "<div>\n",
       "<style scoped>\n",
       "    .dataframe tbody tr th:only-of-type {\n",
       "        vertical-align: middle;\n",
       "    }\n",
       "\n",
       "    .dataframe tbody tr th {\n",
       "        vertical-align: top;\n",
       "    }\n",
       "\n",
       "    .dataframe thead th {\n",
       "        text-align: right;\n",
       "    }\n",
       "</style>\n",
       "<table border=\"1\" class=\"dataframe\">\n",
       "  <thead>\n",
       "    <tr style=\"text-align: right;\">\n",
       "      <th></th>\n",
       "      <th>Unnamed: 0</th>\n",
       "      <th>Id</th>\n",
       "      <th>DATE</th>\n",
       "      <th>Price</th>\n",
       "    </tr>\n",
       "  </thead>\n",
       "  <tbody>\n",
       "    <tr>\n",
       "      <th>0</th>\n",
       "      <td>0</td>\n",
       "      <td>7129300520</td>\n",
       "      <td>20141013T000000</td>\n",
       "      <td>$221,900.00</td>\n",
       "    </tr>\n",
       "    <tr>\n",
       "      <th>1</th>\n",
       "      <td>1</td>\n",
       "      <td>6414100192</td>\n",
       "      <td>20141209T000000</td>\n",
       "      <td>$538,000.00</td>\n",
       "    </tr>\n",
       "    <tr>\n",
       "      <th>2</th>\n",
       "      <td>2</td>\n",
       "      <td>5631500400</td>\n",
       "      <td>20150225T000000</td>\n",
       "      <td>$180,000.00</td>\n",
       "    </tr>\n",
       "    <tr>\n",
       "      <th>3</th>\n",
       "      <td>3</td>\n",
       "      <td>2487200875</td>\n",
       "      <td>20141209T000000</td>\n",
       "      <td>$604,000.00</td>\n",
       "    </tr>\n",
       "    <tr>\n",
       "      <th>4</th>\n",
       "      <td>4</td>\n",
       "      <td>1954400510</td>\n",
       "      <td>20150218T000000</td>\n",
       "      <td>$510,000.00</td>\n",
       "    </tr>\n",
       "  </tbody>\n",
       "</table>\n",
       "</div>"
      ],
      "text/plain": [
       "   Unnamed: 0          Id             DATE        Price\n",
       "0           0  7129300520  20141013T000000  $221,900.00\n",
       "1           1  6414100192  20141209T000000  $538,000.00\n",
       "2           2  5631500400  20150225T000000  $180,000.00\n",
       "3           3  2487200875  20141209T000000  $604,000.00\n",
       "4           4  1954400510  20150218T000000  $510,000.00"
      ]
     },
     "execution_count": 6,
     "metadata": {},
     "output_type": "execute_result"
    }
   ],
   "source": [
    "###### TO DO ######\n",
    "\n",
    "# use .head() on your second new dataframe to show the dataframe was copied succussfully\n",
    "sales_df.head()"
   ]
  },
  {
   "cell_type": "markdown",
   "id": "02736475",
   "metadata": {},
   "source": [
    "## Part 2: Assess Data and Create Data Cleaning Plan"
   ]
  },
  {
   "cell_type": "markdown",
   "id": "1666070a",
   "metadata": {},
   "source": [
    "### Step 1: Check Column Names, Casing, Spelling, Etc."
   ]
  },
  {
   "cell_type": "code",
   "execution_count": 8,
   "id": "7a3cdce7",
   "metadata": {},
   "outputs": [
    {
     "name": "stdout",
     "output_type": "stream",
     "text": [
      "<class 'pandas.core.frame.DataFrame'>\n",
      "RangeIndex: 21613 entries, 0 to 21612\n",
      "Data columns (total 20 columns):\n",
      " #   Column           Non-Null Count  Dtype  \n",
      "---  ------           --------------  -----  \n",
      " 0   Unnamed: 0       21613 non-null  int64  \n",
      " 1   ID               21613 non-null  int64  \n",
      " 2   Bedrooms         21613 non-null  int64  \n",
      " 3   Bathrooms        21611 non-null  float64\n",
      " 4   SQFT living      21613 non-null  int64  \n",
      " 5   SQFT lot         21611 non-null  float64\n",
      " 6   Floors           21613 non-null  float64\n",
      " 7   Waterfront?      21605 non-null  object \n",
      " 8   View             21611 non-null  object \n",
      " 9   House Condition  21607 non-null  object \n",
      " 10  Grade            21611 non-null  float64\n",
      " 11  SQFT above       21612 non-null  float64\n",
      " 12  SQFT basement    21613 non-null  int64  \n",
      " 13  Year Built       21612 non-null  float64\n",
      " 14  Year Renovated   21276 non-null  float64\n",
      " 15  Zipcode          21610 non-null  float64\n",
      " 16  Lat              21612 non-null  float64\n",
      " 17  Long             21612 non-null  float64\n",
      " 18  SQFT living 15   21613 non-null  int64  \n",
      " 19  SQFT lot 15      21613 non-null  int64  \n",
      "dtypes: float64(10), int64(7), object(3)\n",
      "memory usage: 3.3+ MB\n",
      "<class 'pandas.core.frame.DataFrame'>\n",
      "RangeIndex: 21613 entries, 0 to 21612\n",
      "Data columns (total 4 columns):\n",
      " #   Column      Non-Null Count  Dtype \n",
      "---  ------      --------------  ----- \n",
      " 0   Unnamed: 0  21613 non-null  int64 \n",
      " 1   Id          21613 non-null  int64 \n",
      " 2   DATE        21613 non-null  object\n",
      " 3   Price       21609 non-null  object\n",
      "dtypes: int64(2), object(2)\n",
      "memory usage: 675.5+ KB\n"
     ]
    },
    {
     "data": {
      "text/html": [
       "<div>\n",
       "<style scoped>\n",
       "    .dataframe tbody tr th:only-of-type {\n",
       "        vertical-align: middle;\n",
       "    }\n",
       "\n",
       "    .dataframe tbody tr th {\n",
       "        vertical-align: top;\n",
       "    }\n",
       "\n",
       "    .dataframe thead th {\n",
       "        text-align: right;\n",
       "    }\n",
       "</style>\n",
       "<table border=\"1\" class=\"dataframe\">\n",
       "  <thead>\n",
       "    <tr style=\"text-align: right;\">\n",
       "      <th></th>\n",
       "      <th>Unnamed: 0</th>\n",
       "      <th>Id</th>\n",
       "      <th>DATE</th>\n",
       "      <th>Price</th>\n",
       "    </tr>\n",
       "  </thead>\n",
       "  <tbody>\n",
       "    <tr>\n",
       "      <th>0</th>\n",
       "      <td>0</td>\n",
       "      <td>7129300520</td>\n",
       "      <td>20141013T000000</td>\n",
       "      <td>$221,900.00</td>\n",
       "    </tr>\n",
       "    <tr>\n",
       "      <th>1</th>\n",
       "      <td>1</td>\n",
       "      <td>6414100192</td>\n",
       "      <td>20141209T000000</td>\n",
       "      <td>$538,000.00</td>\n",
       "    </tr>\n",
       "    <tr>\n",
       "      <th>2</th>\n",
       "      <td>2</td>\n",
       "      <td>5631500400</td>\n",
       "      <td>20150225T000000</td>\n",
       "      <td>$180,000.00</td>\n",
       "    </tr>\n",
       "    <tr>\n",
       "      <th>3</th>\n",
       "      <td>3</td>\n",
       "      <td>2487200875</td>\n",
       "      <td>20141209T000000</td>\n",
       "      <td>$604,000.00</td>\n",
       "    </tr>\n",
       "    <tr>\n",
       "      <th>4</th>\n",
       "      <td>4</td>\n",
       "      <td>1954400510</td>\n",
       "      <td>20150218T000000</td>\n",
       "      <td>$510,000.00</td>\n",
       "    </tr>\n",
       "  </tbody>\n",
       "</table>\n",
       "</div>"
      ],
      "text/plain": [
       "   Unnamed: 0          Id             DATE        Price\n",
       "0           0  7129300520  20141013T000000  $221,900.00\n",
       "1           1  6414100192  20141209T000000  $538,000.00\n",
       "2           2  5631500400  20150225T000000  $180,000.00\n",
       "3           3  2487200875  20141209T000000  $604,000.00\n",
       "4           4  1954400510  20150218T000000  $510,000.00"
      ]
     },
     "execution_count": 8,
     "metadata": {},
     "output_type": "execute_result"
    }
   ],
   "source": [
    "######################### TO DO ###################################\n",
    "\n",
    "####### FOLLOW PROJECT DIRECTIONS TO COMPLETE THIS STEP ###########\n",
    "\n",
    "house_df.info()\n",
    "house_df.head()\n",
    "sales_df.info()\n",
    "sales_df.head()"
   ]
  },
  {
   "cell_type": "markdown",
   "id": "2a550fef",
   "metadata": {},
   "source": [
    "### Step 2: Validate Data Types"
   ]
  },
  {
   "cell_type": "code",
   "execution_count": 19,
   "id": "e293ef89",
   "metadata": {},
   "outputs": [],
   "source": [
    "######################### TO DO ###################################\n",
    "\n",
    "####### FOLLOW PROJECT DIRECTIONS TO COMPLETE THIS STEP ###########"
   ]
  },
  {
   "cell_type": "markdown",
   "id": "4b7c9345",
   "metadata": {},
   "source": [
    "Q: Do any of the data types in the dataframe need to be changed? probably"
   ]
  },
  {
   "cell_type": "markdown",
   "id": "b401a0c1",
   "metadata": {},
   "source": [
    "remove question mark from waterfront\n",
    "all column titles lowercase\n",
    "remove all spaces from column titles, replace with _\n",
    "i suppose you can have a floor and a half, so floors can be a float\n",
    "delete unnamed column\n",
    "zipcode string\n",
    "change waterfront to boolean or i suppose you can keep it as object yes/no\n",
    "remove $ from price and change to float so you can calculate\n"
   ]
  },
  {
   "cell_type": "code",
   "execution_count": 17,
   "id": "856dc050",
   "metadata": {},
   "outputs": [
    {
     "name": "stdout",
     "output_type": "stream",
     "text": [
      "       Unnamed: 0          Id             DATE        Price\n",
      "0               0  7129300520  20141013T000000  $221,900.00\n",
      "1               1  6414100192  20141209T000000  $538,000.00\n",
      "2               2  5631500400  20150225T000000  $180,000.00\n",
      "3               3  2487200875  20141209T000000  $604,000.00\n",
      "4               4  1954400510  20150218T000000  $510,000.00\n",
      "...           ...         ...              ...          ...\n",
      "21608       21608   263000018  20140521T000000  $360,000.00\n",
      "21609       21609  6600060120  20150223T000000  $400,000.00\n",
      "21610       21610  1523300141  20140623T000000  $402,101.00\n",
      "21611       21611   291310100  20150116T000000  $400,000.00\n",
      "21612       21612  1523300157  20141015T000000  $325,000.00\n",
      "\n",
      "[21613 rows x 4 columns]\n"
     ]
    }
   ],
   "source": [
    "print(sales_df)"
   ]
  },
  {
   "cell_type": "markdown",
   "id": "dd4fd9cb",
   "metadata": {},
   "source": [
    "### Step 3: Detect Missing Values"
   ]
  },
  {
   "cell_type": "code",
   "execution_count": 15,
   "id": "1e69dc73",
   "metadata": {},
   "outputs": [
    {
     "data": {
      "text/html": [
       "<div>\n",
       "<style scoped>\n",
       "    .dataframe tbody tr th:only-of-type {\n",
       "        vertical-align: middle;\n",
       "    }\n",
       "\n",
       "    .dataframe tbody tr th {\n",
       "        vertical-align: top;\n",
       "    }\n",
       "\n",
       "    .dataframe thead th {\n",
       "        text-align: right;\n",
       "    }\n",
       "</style>\n",
       "<table border=\"1\" class=\"dataframe\">\n",
       "  <thead>\n",
       "    <tr style=\"text-align: right;\">\n",
       "      <th></th>\n",
       "      <th>Unnamed: 0</th>\n",
       "      <th>Id</th>\n",
       "      <th>DATE</th>\n",
       "      <th>Price</th>\n",
       "    </tr>\n",
       "  </thead>\n",
       "  <tbody>\n",
       "    <tr>\n",
       "      <th>0</th>\n",
       "      <td>False</td>\n",
       "      <td>False</td>\n",
       "      <td>False</td>\n",
       "      <td>False</td>\n",
       "    </tr>\n",
       "    <tr>\n",
       "      <th>1</th>\n",
       "      <td>False</td>\n",
       "      <td>False</td>\n",
       "      <td>False</td>\n",
       "      <td>False</td>\n",
       "    </tr>\n",
       "    <tr>\n",
       "      <th>2</th>\n",
       "      <td>False</td>\n",
       "      <td>False</td>\n",
       "      <td>False</td>\n",
       "      <td>False</td>\n",
       "    </tr>\n",
       "    <tr>\n",
       "      <th>3</th>\n",
       "      <td>False</td>\n",
       "      <td>False</td>\n",
       "      <td>False</td>\n",
       "      <td>False</td>\n",
       "    </tr>\n",
       "    <tr>\n",
       "      <th>4</th>\n",
       "      <td>False</td>\n",
       "      <td>False</td>\n",
       "      <td>False</td>\n",
       "      <td>False</td>\n",
       "    </tr>\n",
       "    <tr>\n",
       "      <th>...</th>\n",
       "      <td>...</td>\n",
       "      <td>...</td>\n",
       "      <td>...</td>\n",
       "      <td>...</td>\n",
       "    </tr>\n",
       "    <tr>\n",
       "      <th>21608</th>\n",
       "      <td>False</td>\n",
       "      <td>False</td>\n",
       "      <td>False</td>\n",
       "      <td>False</td>\n",
       "    </tr>\n",
       "    <tr>\n",
       "      <th>21609</th>\n",
       "      <td>False</td>\n",
       "      <td>False</td>\n",
       "      <td>False</td>\n",
       "      <td>False</td>\n",
       "    </tr>\n",
       "    <tr>\n",
       "      <th>21610</th>\n",
       "      <td>False</td>\n",
       "      <td>False</td>\n",
       "      <td>False</td>\n",
       "      <td>False</td>\n",
       "    </tr>\n",
       "    <tr>\n",
       "      <th>21611</th>\n",
       "      <td>False</td>\n",
       "      <td>False</td>\n",
       "      <td>False</td>\n",
       "      <td>False</td>\n",
       "    </tr>\n",
       "    <tr>\n",
       "      <th>21612</th>\n",
       "      <td>False</td>\n",
       "      <td>False</td>\n",
       "      <td>False</td>\n",
       "      <td>False</td>\n",
       "    </tr>\n",
       "  </tbody>\n",
       "</table>\n",
       "<p>21613 rows × 4 columns</p>\n",
       "</div>"
      ],
      "text/plain": [
       "       Unnamed: 0     Id   DATE  Price\n",
       "0           False  False  False  False\n",
       "1           False  False  False  False\n",
       "2           False  False  False  False\n",
       "3           False  False  False  False\n",
       "4           False  False  False  False\n",
       "...           ...    ...    ...    ...\n",
       "21608       False  False  False  False\n",
       "21609       False  False  False  False\n",
       "21610       False  False  False  False\n",
       "21611       False  False  False  False\n",
       "21612       False  False  False  False\n",
       "\n",
       "[21613 rows x 4 columns]"
      ]
     },
     "execution_count": 15,
     "metadata": {},
     "output_type": "execute_result"
    }
   ],
   "source": [
    "######################### TO DO ###################################\n",
    "\n",
    "####### FOLLOW PROJECT DIRECTIONS TO COMPLETE THIS STEP ########\n",
    "\n",
    "sales_df.isnull()"
   ]
  },
  {
   "cell_type": "markdown",
   "id": "95c2804a",
   "metadata": {},
   "source": [
    "\n",
    "Q: Which variables/columns have missing values? i think i need to change some column titles before i can use value_counts() since some of the titles have spaces in them :("
   ]
  },
  {
   "cell_type": "code",
   "execution_count": 18,
   "id": "47581fee",
   "metadata": {},
   "outputs": [
    {
     "data": {
      "text/plain": [
       "Unnamed: 0  ID          Bedrooms  Bathrooms  SQFT living  SQFT lot  Floors  Waterfront?  View       House Condition  Grade  SQFT above  SQFT basement  Year Built  Year Renovated  Zipcode  Lat      Long      SQFT living 15  SQFT lot 15\n",
       "1           6414100192  3         2.25       2570         7242.0    2.0     No           Very Poor  OK Condition     7.0    2170.0      400            1951.0      1991.0          98125.0  47.7210  -122.319  1690            7639           1\n",
       "14490       7831800411  4         1.75       1510         5500.0    1.5     No           Very Poor  OK Condition     7.0    1510.0      0              1920.0      0.0             98106.0  47.5350  -122.359  1320            6431           1\n",
       "14488       5631500905  2         1.00       1280         5728.0    1.5     No           Very Poor  Great Condition  6.0    1280.0      0              1941.0      0.0             98028.0  47.7477  -122.232  2480            9775           1\n",
       "14487       8899210610  3         2.50       2330         8627.0    1.0     No           Very Poor  Good Condition   7.0    1480.0      850            1980.0      0.0             98055.0  47.4543  -122.210  1940            9607           1\n",
       "14486       4302200790  2         1.00       720          5160.0    1.0     No           Very Poor  OK Condition     6.0    720.0       0              1949.0      0.0             98106.0  47.5274  -122.357  990             5160           1\n",
       "                                                                                                                                                                                                                                             ..\n",
       "7397        2464400500  4         1.75       1980         2700.0    1.5     No           Very Poor  OK Condition     8.0    1210.0      770            1931.0      0.0             98115.0  47.6865  -122.320  1720            2910           1\n",
       "7396        1328330430  2         1.75       1270         7800.0    1.0     No           Very Poor  Good Condition   7.0    890.0       380            1981.0      0.0             98058.0  47.4438  -122.134  2020            8025           1\n",
       "7395        3343901188  3         1.00       1320         7200.0    1.0     No           Very Poor  Good Condition   7.0    1320.0      0              1959.0      0.0             98056.0  47.5048  -122.190  1720            7249           1\n",
       "7394        3625700080  4         2.25       3270         15760.0   1.0     No           Very Poor  Good Condition   10.0   2000.0      1270           1974.0      0.0             98040.0  47.5295  -122.229  4100            15760          1\n",
       "21611       291310100   3         2.50       1600         2388.0    2.0     No           Very Poor  OK Condition     8.0    1600.0      0              2004.0      0.0             98027.0  47.5345  -122.069  1410            1287           1\n",
       "Length: 21252, dtype: int64"
      ]
     },
     "execution_count": 18,
     "metadata": {},
     "output_type": "execute_result"
    }
   ],
   "source": [
    "house_df.value_counts()"
   ]
  },
  {
   "cell_type": "markdown",
   "id": "2c83cda7",
   "metadata": {},
   "source": [
    "A: ##### TO DO #####\n",
    "\n",
    "house_df - year renovated, house condition"
   ]
  },
  {
   "cell_type": "markdown",
   "id": "ab831c3a",
   "metadata": {},
   "source": [
    "### Step 4: Detect Outliers"
   ]
  },
  {
   "cell_type": "code",
   "execution_count": 21,
   "id": "ab13309c",
   "metadata": {},
   "outputs": [],
   "source": [
    "######################### TO DO ###################################\n",
    "\n",
    "####### FOLLOW PROJECT DIRECTIONS TO COMPLETE THIS STEP ###########"
   ]
  },
  {
   "cell_type": "markdown",
   "id": "b662e1d4",
   "metadata": {},
   "source": [
    "Q: Which variables/columns have outliers?"
   ]
  },
  {
   "cell_type": "markdown",
   "id": "805b94b3",
   "metadata": {},
   "source": [
    "A: ##### TO DO #####"
   ]
  },
  {
   "cell_type": "markdown",
   "id": "fa8404ee",
   "metadata": {},
   "source": [
    "### Step 5: Write Data Cleaning Plan "
   ]
  },
  {
   "cell_type": "code",
   "execution_count": 22,
   "id": "b8363572",
   "metadata": {},
   "outputs": [],
   "source": [
    "######################### TO DO ###################################\n",
    "\n",
    "####### FOLLOW PROJECT DIRECTIONS TO COMPLETE THIS STEP ###########"
   ]
  },
  {
   "cell_type": "markdown",
   "id": "ffaead81",
   "metadata": {},
   "source": [
    "#### Data Cleaning Plan:\n",
    "\n",
    "####### TO DO #######"
   ]
  },
  {
   "cell_type": "markdown",
   "id": "2b013db9",
   "metadata": {},
   "source": [
    "## Part 3: Execute Data Cleaning Plan Using DEFINE / CLEAN / TEST Approach"
   ]
  },
  {
   "cell_type": "markdown",
   "id": "e3c2577a",
   "metadata": {},
   "source": [
    "### Step 1: Understand DEFINE / CLEAN / TEST Approach"
   ]
  },
  {
   "cell_type": "markdown",
   "id": "c83b7b6e",
   "metadata": {},
   "source": [
    "Refer to project instructions for an explanation of this step. You can copy and past the template in the cell below to use in each step of Part 3 as you are treating the issues you found in the data. "
   ]
  },
  {
   "cell_type": "code",
   "execution_count": 23,
   "id": "dde1bdbb",
   "metadata": {},
   "outputs": [],
   "source": [
    "### DEFINE ###\n",
    "\n",
    "\n",
    "### CLEAN ### \n",
    "\n",
    "\n",
    "### TEST ###\n",
    "\n"
   ]
  },
  {
   "cell_type": "markdown",
   "id": "659b978b",
   "metadata": {},
   "source": [
    "### Step 2: Treat Names / Casing / Spelling Issues"
   ]
  },
  {
   "cell_type": "code",
   "execution_count": 24,
   "id": "82b0d7c7",
   "metadata": {},
   "outputs": [],
   "source": [
    "######################### TO DO ###################################\n",
    "\n",
    "####### FOLLOW PROJECT DIRECTIONS TO COMPLETE THIS STEP ###########"
   ]
  },
  {
   "cell_type": "code",
   "execution_count": 25,
   "id": "96693e11",
   "metadata": {},
   "outputs": [],
   "source": [
    "### DEFINE ###\n",
    "\n",
    "\n",
    "### CLEAN ### \n",
    "\n",
    "\n",
    "### TEST ###\n",
    "\n"
   ]
  },
  {
   "cell_type": "markdown",
   "id": "33e34ee1",
   "metadata": {},
   "source": [
    "### Step 3: Treat Missing Values"
   ]
  },
  {
   "cell_type": "code",
   "execution_count": 26,
   "id": "86a525d0",
   "metadata": {},
   "outputs": [],
   "source": [
    "######################### TO DO ###################################\n",
    "\n",
    "####### FOLLOW PROJECT DIRECTIONS TO COMPLETE THIS STEP ###########"
   ]
  },
  {
   "cell_type": "code",
   "execution_count": 27,
   "id": "4ea01014",
   "metadata": {},
   "outputs": [],
   "source": [
    "### DEFINE ###\n",
    "\n",
    "\n",
    "### CLEAN ### \n",
    "\n",
    "\n",
    "### TEST ###\n",
    "\n"
   ]
  },
  {
   "cell_type": "markdown",
   "id": "8397cecc",
   "metadata": {},
   "source": [
    "### Step 4: Treat Outliers"
   ]
  },
  {
   "cell_type": "code",
   "execution_count": 28,
   "id": "217889fd",
   "metadata": {},
   "outputs": [],
   "source": [
    "######################### TO DO ###################################\n",
    "\n",
    "####### FOLLOW PROJECT DIRECTIONS TO COMPLETE THIS STEP ###########"
   ]
  },
  {
   "cell_type": "code",
   "execution_count": 29,
   "id": "0f99ae6a",
   "metadata": {},
   "outputs": [],
   "source": [
    "### DEFINE ###\n",
    "\n",
    "\n",
    "### CLEAN ### \n",
    "\n",
    "\n",
    "### TEST ###\n",
    "\n"
   ]
  },
  {
   "cell_type": "markdown",
   "id": "0a54e6b7",
   "metadata": {},
   "source": [
    "### Step 5: Summarize Actions Taken & Justify Approach"
   ]
  },
  {
   "cell_type": "code",
   "execution_count": 30,
   "id": "151012ff",
   "metadata": {},
   "outputs": [],
   "source": [
    "######################### TO DO ###################################\n",
    "\n",
    "####### FOLLOW PROJECT DIRECTIONS TO COMPLETE THIS STEP ###########"
   ]
  },
  {
   "cell_type": "markdown",
   "id": "0b825639",
   "metadata": {},
   "source": [
    "####### TO DO ###### - Edit this cell to add your summary and justification per project instructions."
   ]
  },
  {
   "cell_type": "markdown",
   "id": "be32e952",
   "metadata": {},
   "source": [
    "## Part 4: Re-Express Categorical Variables"
   ]
  },
  {
   "cell_type": "markdown",
   "id": "60bcdbc8",
   "metadata": {},
   "source": [
    "### Step 1: Determine Which Variables Need to Be Re-Expressed"
   ]
  },
  {
   "cell_type": "code",
   "execution_count": 31,
   "id": "4aecd3ad",
   "metadata": {},
   "outputs": [],
   "source": [
    "######################### TO DO ###################################\n",
    "\n",
    "####### FOLLOW PROJECT DIRECTIONS TO COMPLETE THIS STEP ###########"
   ]
  },
  {
   "cell_type": "markdown",
   "id": "1f856e80",
   "metadata": {},
   "source": [
    "List categorical variables which need to be re-expressed here:\n",
    "\n",
    "- ########## TO DO ###########\n",
    "- ########## TO DO ###########\n",
    "- ########## TO DO ###########\n",
    "- ########## TO DO ########### ........"
   ]
  },
  {
   "cell_type": "markdown",
   "id": "b6b6cbdb",
   "metadata": {},
   "source": [
    "### Step 2: Choose Method to Re-Express Variables"
   ]
  },
  {
   "cell_type": "code",
   "execution_count": 32,
   "id": "0c8977ed",
   "metadata": {},
   "outputs": [],
   "source": [
    "######################### TO DO ###################################\n",
    "\n",
    "####### FOLLOW PROJECT DIRECTIONS TO COMPLETE THIS STEP ###########"
   ]
  },
  {
   "cell_type": "markdown",
   "id": "dc0fd315",
   "metadata": {},
   "source": [
    "Edit this cell to explain which method you are choosing to re-express each variable and why. "
   ]
  },
  {
   "cell_type": "markdown",
   "id": "f4c3e76b",
   "metadata": {},
   "source": [
    "### Step 3: Perform Transformation "
   ]
  },
  {
   "cell_type": "code",
   "execution_count": 33,
   "id": "8542a6d1",
   "metadata": {},
   "outputs": [],
   "source": [
    "######################### TO DO ###################################\n",
    "\n",
    "####### FOLLOW PROJECT DIRECTIONS TO COMPLETE THIS STEP ###########"
   ]
  },
  {
   "cell_type": "markdown",
   "id": "f2ce1391",
   "metadata": {},
   "source": [
    "### Step 4: Summarize Actions Taken & Justify Approach"
   ]
  },
  {
   "cell_type": "code",
   "execution_count": 34,
   "id": "d87dcba1",
   "metadata": {},
   "outputs": [],
   "source": [
    "######################### TO DO ###################################\n",
    "\n",
    "####### FOLLOW PROJECT DIRECTIONS TO COMPLETE THIS STEP ###########"
   ]
  },
  {
   "cell_type": "markdown",
   "id": "fdd1a79e",
   "metadata": {},
   "source": [
    "Edit this cell to add your summary and justification per project instructions."
   ]
  },
  {
   "cell_type": "markdown",
   "id": "e592a7c3",
   "metadata": {},
   "source": [
    "## Part 5: Combine Datasets into Master DataFrame"
   ]
  },
  {
   "cell_type": "markdown",
   "id": "faf1efd6",
   "metadata": {},
   "source": [
    "### Step 1: Choose Method to Merge DataFrames into New Master DataFrame"
   ]
  },
  {
   "cell_type": "code",
   "execution_count": 35,
   "id": "f2915bd5",
   "metadata": {},
   "outputs": [],
   "source": [
    "######################### TO DO ###################################\n",
    "\n",
    "####### FOLLOW PROJECT DIRECTIONS TO COMPLETE THIS STEP ###########"
   ]
  },
  {
   "cell_type": "markdown",
   "id": "519d0760",
   "metadata": {},
   "source": [
    "Edit this cell to explain which method you are choosing to merge the data and why. "
   ]
  },
  {
   "cell_type": "markdown",
   "id": "4b9afb13",
   "metadata": {},
   "source": [
    "### Step 2: Merge DataFrames"
   ]
  },
  {
   "cell_type": "code",
   "execution_count": 36,
   "id": "99031a01",
   "metadata": {},
   "outputs": [],
   "source": [
    "######################### TO DO ###################################\n",
    "\n",
    "####### FOLLOW PROJECT DIRECTIONS TO COMPLETE THIS STEP ###########"
   ]
  },
  {
   "cell_type": "code",
   "execution_count": 37,
   "id": "55fb9a12",
   "metadata": {},
   "outputs": [],
   "source": [
    "# Use .head() method to print first few rows of new master dataframe"
   ]
  },
  {
   "cell_type": "markdown",
   "id": "676dfdc8",
   "metadata": {},
   "source": [
    "### Step 3: Save Master DataFrame to New .CSV"
   ]
  },
  {
   "cell_type": "code",
   "execution_count": 38,
   "id": "ccf2c160",
   "metadata": {},
   "outputs": [],
   "source": [
    "######################### TO DO ###################################\n",
    "\n",
    "####### FOLLOW PROJECT DIRECTIONS TO COMPLETE THIS STEP ###########"
   ]
  },
  {
   "cell_type": "markdown",
   "id": "a34a138b",
   "metadata": {},
   "source": [
    "### Step 4: Push to GitHub / Share Link with Tech Lead & SME"
   ]
  },
  {
   "cell_type": "markdown",
   "id": "16a67912",
   "metadata": {},
   "source": [
    "##### This step will be completed outside of Jupyter Notebook. See \"Submitting Project\" Video Walkthrough from Unit 1 if you have any questions. "
   ]
  },
  {
   "cell_type": "markdown",
   "id": "44a3a5a1",
   "metadata": {},
   "source": [
    "### Step 5: Record Brief Code Walkthrough / Share Link with Tech Lead & SME "
   ]
  },
  {
   "cell_type": "markdown",
   "id": "585c953e",
   "metadata": {},
   "source": [
    "##### This step will be completed outside of Jupyter Notebook. See \"Submitting Project\" Video Walkthrough from Unit 1 if you have any questions. "
   ]
  }
 ],
 "metadata": {
  "kernelspec": {
   "display_name": "Python 3 (ipykernel)",
   "language": "python",
   "name": "python3"
  },
  "language_info": {
   "codemirror_mode": {
    "name": "ipython",
    "version": 3
   },
   "file_extension": ".py",
   "mimetype": "text/x-python",
   "name": "python",
   "nbconvert_exporter": "python",
   "pygments_lexer": "ipython3",
   "version": "3.9.12"
  }
 },
 "nbformat": 4,
 "nbformat_minor": 5
}
